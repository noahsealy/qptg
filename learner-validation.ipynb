{
 "cells": [
  {
   "cell_type": "code",
   "execution_count": 1,
   "metadata": {},
   "outputs": [],
   "source": [
    "from qtpg.team import Team\n",
    "from qtpg.agent import Agent\n",
    "from qtpg.trainer import Trainer\n",
    "from qtpg.figure13 import Figure13\n",
    "import numpy as np"
   ]
  },
  {
   "cell_type": "code",
   "execution_count": 2,
   "metadata": {},
   "outputs": [],
   "source": [
    "# gp params\n",
    "numLearners = 4\n",
    "numAgents = 1\n",
    "numRuns = 1\n",
    "numGens = 100\n",
    "numEpisodes = 50\n",
    "gap = 0.3\n",
    "# rl params\n",
    "alpha, discount, epsilon = 0.9, 0.9, 0.1\n",
    "# env params\n",
    "memorySize = 200\n",
    "legalMove = 0.1\n",
    "illegalMove = -0.01\n",
    "outOfBounds = -0.01\n",
    "memoryRepeat = 0\n",
    "goalReached = 100"
   ]
  },
  {
   "cell_type": "code",
   "execution_count": 3,
   "metadata": {},
   "outputs": [],
   "source": [
    "# env = Figure13(5, 5, (2, 4), (0, 0), memorySize, legalMove, illegalMove, outOfBounds, memoryRepeat, goalReached)\n",
    "# env.current_state = (4, 2)\n",
    "# print(env.step(2))"
   ]
  },
  {
   "cell_type": "code",
   "execution_count": 4,
   "metadata": {
    "scrolled": true
   },
   "outputs": [],
   "source": [
    "# trainer = Trainer(gap, numLearners, numAgents, alpha, discount, epsilon)\n",
    "# env = Figure13(5, 5, (2, 4), (0, 0), memorySize, legalMove, illegalMove, outOfBounds, memoryRepeat, goalReached)\n",
    "# trainer.generateRules(env)"
   ]
  },
  {
   "cell_type": "code",
   "execution_count": 5,
   "metadata": {},
   "outputs": [
    {
     "name": "stdout",
     "output_type": "stream",
     "text": [
      "(1, 3)\n"
     ]
    }
   ],
   "source": [
    "test = (4, 0)\n",
    "test = (1, 3)\n",
    "print(test)"
   ]
  },
  {
   "cell_type": "code",
   "execution_count": 6,
   "metadata": {},
   "outputs": [
    {
     "name": "stdout",
     "output_type": "stream",
     "text": [
      "366e005e-7ce5-4771-9f1a-cbfac846a42c\n",
      "[0, 0, 0, 1]\n",
      "c3f07a7c-8a04-4194-8fae-fd8ea7aa0635\n",
      "[1, 2, 0, 3]\n",
      "6390fe8a-8958-4cf5-8494-8e434d450295\n",
      "[0, 4, 2, 3]\n",
      "b1ad3384-d616-4e1d-a7a3-fd5803b20810\n",
      "[1, 4, 2, 4]\n",
      "4\n",
      "4\n",
      "start!\n",
      "[0, 0, 0, 1]\n",
      "[1, 2, 0, 3]\n",
      "[0, 4, 2, 3]\n",
      "[1, 4, 2, 4]\n",
      "end!\n",
      "366e005e-7ce5-4771-9f1a-cbfac846a42c\n",
      "c3f07a7c-8a04-4194-8fae-fd8ea7aa0635\n",
      "6390fe8a-8958-4cf5-8494-8e434d450295\n",
      "b1ad3384-d616-4e1d-a7a3-fd5803b20810\n",
      "0 0 2 2 3 \n",
      "0 0 1 0 3 \n",
      "0 0 1 0 3 \n",
      "0 0 1 0 0 \n",
      "0 0 1 0 0 \n"
     ]
    }
   ],
   "source": [
    "trainer = Trainer(gap, numLearners, numAgents, alpha, discount, epsilon)\n",
    "\n",
    "env = Figure13(5, 5, (2, 4), (0, 0), memorySize, legalMove, illegalMove, outOfBounds, memoryRepeat, goalReached)\n",
    "env.memoryRepeat = 0.0\n",
    "# search space to make rules\n",
    "trainer.generateRules(env)\n",
    "\n",
    "trainer.createInitAgents()\n",
    "\n",
    "for agent in trainer.agents:\n",
    "    for learner in agent.team.learners:\n",
    "        print(learner.program.rule.id)\n",
    "#     for n in range(5):\n",
    "#         for m in range(5):\n",
    "    for n in range(4, -1, -1):\n",
    "        for m in range(5):\n",
    "            state = (n, m)\n",
    "#             print(state)\n",
    "            top_bid, action = agent.team.evaluate(state)\n",
    "    #         print(state)\n",
    "            for i in range(len(agent.team.learners)):\n",
    "                if str(top_bid.id) == str(agent.team.learners[i].id):\n",
    "                    print(str(i) + ' ', end=\"\")\n",
    "#                     print(str(state) + ' ' + str(top_bid.program.rule.region) + ' ', end=\"\")\n",
    "    #                 print(str(top_bid.id) + ' ', end=\"\")\n",
    "        print('')"
   ]
  },
  {
   "cell_type": "code",
   "execution_count": 7,
   "metadata": {},
   "outputs": [],
   "source": [
    "# for n in range(5):\n",
    "#     for m in range(5):\n",
    "#         print(str((n, m)) + ' ', end=\"\")\n",
    "#     print('')"
   ]
  },
  {
   "cell_type": "code",
   "execution_count": 8,
   "metadata": {},
   "outputs": [],
   "source": [
    "# test = [0, 1]\n",
    "# index = 0\n",
    "# print(test[not index])"
   ]
  },
  {
   "cell_type": "code",
   "execution_count": null,
   "metadata": {},
   "outputs": [],
   "source": []
  }
 ],
 "metadata": {
  "kernelspec": {
   "display_name": "Python 3",
   "language": "python",
   "name": "python3"
  },
  "language_info": {
   "codemirror_mode": {
    "name": "ipython",
    "version": 3
   },
   "file_extension": ".py",
   "mimetype": "text/x-python",
   "name": "python",
   "nbconvert_exporter": "python",
   "pygments_lexer": "ipython3",
   "version": "3.8.3"
  }
 },
 "nbformat": 4,
 "nbformat_minor": 4
}
