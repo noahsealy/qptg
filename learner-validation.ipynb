{
 "cells": [
  {
   "cell_type": "code",
   "execution_count": 1,
   "metadata": {},
   "outputs": [],
   "source": [
    "from qtpg.team import Team\n",
    "from qtpg.agent import Agent\n",
    "from qtpg.trainer import Trainer\n",
    "from qtpg.figure13 import Figure13\n",
    "import numpy as np"
   ]
  },
  {
   "cell_type": "code",
   "execution_count": 2,
   "metadata": {},
   "outputs": [],
   "source": [
    "# gp params\n",
    "numLearners = 4\n",
    "numAgents = 1\n",
    "numRuns = 1\n",
    "numGens = 100\n",
    "numEpisodes = 50\n",
    "gap = 0.3\n",
    "# rl params\n",
    "alpha, discount, epsilon = 0.9, 0.9, 0.1\n",
    "# env params\n",
    "memorySize = 20\n",
    "legalMove = 0.1\n",
    "illegalMove = -0.01\n",
    "outOfBounds = -0.01\n",
    "memoryRepeat = -0.01\n",
    "goalReached = 100"
   ]
  },
  {
   "cell_type": "code",
   "execution_count": 32,
   "metadata": {},
   "outputs": [
    {
     "name": "stdout",
     "output_type": "stream",
     "text": [
      "0 0 1 3 0 \n",
      "1 1 1 1 0 \n",
      "0 0 1 3 0 \n",
      "0 0 1 3 3 \n",
      "2 2 1 2 0 \n"
     ]
    }
   ],
   "source": [
    "trainer = Trainer(gap, numLearners, numAgents, alpha, discount, epsilon)\n",
    "trainer.createInitAgents()\n",
    "\n",
    "# for agent in trainer.agents:\n",
    "#     for learner in agent.team.learners:\n",
    "#         print(learner.id)\n",
    "\n",
    "\n",
    "\n",
    "\n",
    "for agent in trainer.agents:\n",
    "    for n in range(5):\n",
    "        for m in range(5):\n",
    "            state = (n, m)\n",
    "            top_bid, action = agent.team.evaluate(state)\n",
    "    #         print(state)\n",
    "            for i in range(len(agent.team.learners)):\n",
    "                if str(top_bid.id) == str(agent.team.learners[i].id):\n",
    "                    print(str(i) + ' ', end=\"\")\n",
    "    #                 print(str(top_bid.id) + ' ', end=\"\")\n",
    "        print('')\n",
    "        \n",
    "# 508 --> learner 1\n",
    "# 7a32 --> learner 2\n",
    "# bd104 --> learner 3\n",
    "# 08b4 --> learner 4"
   ]
  },
  {
   "cell_type": "code",
   "execution_count": null,
   "metadata": {},
   "outputs": [],
   "source": [
    "for n in range(5):\n",
    "    for m in range(5):\n",
    "        print(str((n, m)) + ' ', end=\"\")\n",
    "    print('')"
   ]
  },
  {
   "cell_type": "code",
   "execution_count": 38,
   "metadata": {},
   "outputs": [
    {
     "name": "stdout",
     "output_type": "stream",
     "text": [
      "1\n"
     ]
    }
   ],
   "source": [
    "test = [0, 1]\n",
    "index = 0\n",
    "print(test[not index])"
   ]
  },
  {
   "cell_type": "code",
   "execution_count": null,
   "metadata": {},
   "outputs": [],
   "source": []
  }
 ],
 "metadata": {
  "kernelspec": {
   "display_name": "Python 3",
   "language": "python",
   "name": "python3"
  },
  "language_info": {
   "codemirror_mode": {
    "name": "ipython",
    "version": 3
   },
   "file_extension": ".py",
   "mimetype": "text/x-python",
   "name": "python",
   "nbconvert_exporter": "python",
   "pygments_lexer": "ipython3",
   "version": "3.8.3"
  }
 },
 "nbformat": 4,
 "nbformat_minor": 4
}
