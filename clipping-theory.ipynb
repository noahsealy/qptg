{
 "cells": [
  {
   "cell_type": "code",
   "execution_count": 18,
   "metadata": {},
   "outputs": [
    {
     "name": "stdout",
     "output_type": "stream",
     "text": [
      "clipping produced --> [0, 5, 2, 7]\n"
     ]
    }
   ],
   "source": [
    "import copy\n",
    "\n",
    "region = [0, 5, 1, 7]\n",
    "sample_start = (5, 1)\n",
    "\n",
    "if region[2] != region[3]:\n",
    "    # now insert the child region by clipping the parent region\n",
    "    if sample_start[not region[0]] == 9:\n",
    "        region[3] = sample_start[not region[0]] - 1\n",
    "        print(f'clipping produced --> {region}')\n",
    "    elif sample_start[not region[0]] == 0:\n",
    "        region[2] = sample_start[not region[0]] + 1\n",
    "        print(f'clipping produced --> {region}')\n",
    "    else:\n",
    "        if sample_start[not region[0]] == region[3]:\n",
    "            region[3] = region[3] - 1\n",
    "            print(f'clipping produced --> {region}')\n",
    "        elif sample_start[not region[0]] == region[2]:\n",
    "            region[2] = region[2] + 1\n",
    "            print(f'clipping produced --> {region}')\n",
    "        else:\n",
    "            after_clip = copy.deepcopy(region)\n",
    "            region[3] = sample_start[not region[0]] - 1\n",
    "            after_clip[2] = sample_start[not region[0]] + 1\n",
    "\n",
    "            print(f'clipping produced --> {region} and {after_clip}')"
   ]
  },
  {
   "cell_type": "code",
   "execution_count": null,
   "metadata": {},
   "outputs": [],
   "source": []
  }
 ],
 "metadata": {
  "kernelspec": {
   "display_name": "Python 3",
   "language": "python",
   "name": "python3"
  },
  "language_info": {
   "codemirror_mode": {
    "name": "ipython",
    "version": 3
   },
   "file_extension": ".py",
   "mimetype": "text/x-python",
   "name": "python",
   "nbconvert_exporter": "python",
   "pygments_lexer": "ipython3",
   "version": "3.8.3"
  }
 },
 "nbformat": 4,
 "nbformat_minor": 4
}
