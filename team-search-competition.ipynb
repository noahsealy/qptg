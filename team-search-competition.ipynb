{
 "cells": [
  {
   "cell_type": "code",
   "execution_count": 1,
   "metadata": {},
   "outputs": [],
   "source": [
    "from qtpg.team import Team\n",
    "from qtpg.learner import Learner\n",
    "from qtpg.program import Program\n",
    "from qtpg.rule import Rule\n",
    "from qtpg.figure13 import Figure13\n",
    "from qtpg.search_manager import SearchManager\n",
    "import numpy as np\n",
    "import uuid\n",
    "import copy"
   ]
  },
  {
   "cell_type": "code",
   "execution_count": 2,
   "metadata": {},
   "outputs": [],
   "source": [
    "# env params\n",
    "memorySize = 20\n",
    "legalMove = 0.1\n",
    "illegalMove = -0.01\n",
    "outOfBounds = -0.01\n",
    "memoryRepeat = 0 #-0.01\n",
    "goalReached = 1000\n",
    "\n",
    "env = Figure13(5, 5, (2, 4), (0, 0), memorySize, legalMove, illegalMove, outOfBounds, memoryRepeat, goalReached)"
   ]
  },
  {
   "cell_type": "code",
   "execution_count": 6,
   "metadata": {},
   "outputs": [
    {
     "name": "stdout",
     "output_type": "stream",
     "text": [
      "[<qtpg.learner.Learner object at 0x7f9ec3025a90>]\n",
      "------\n",
      "Sample start: [0, 1]\n",
      "[<qtpg.learner.Learner object at 0x7f9ec3025a90>, <qtpg.learner.Learner object at 0x7f9ec3025d00>]\n",
      "[2, 3]\n",
      "[0, 0, 2, 0]\n",
      "[0, 1]\n",
      "[1, 1, 1, 1]\n"
     ]
    }
   ],
   "source": [
    "adam_and_eve = []\n",
    "\n",
    "init_team = Team(uuid.uuid4(), 0, 0, 0, 0, 0)\n",
    "init_rule = Rule(uuid.uuid4(), [0, 0, 0, 0], [2, 3], 0)\n",
    "init_learner = Learner(uuid.uuid4(), init_rule)\n",
    "(init_team.learners).append(init_learner)\n",
    "init_team.mostRecent = init_learner\n",
    "adam_and_eve.append(init_team)\n",
    "\n",
    "for adam in adam_and_eve:\n",
    "    print(adam.learners)\n",
    "    print('------')\n",
    "    win = adam.search(env)\n",
    "    print(adam.learners)\n",
    "    for learner in adam.learners:\n",
    "        print(learner.program.rule.action_set)\n",
    "        print(learner.program.rule.region)"
   ]
  },
  {
   "cell_type": "code",
   "execution_count": null,
   "metadata": {},
   "outputs": [],
   "source": [
    "numGens = 50\n",
    "maxTeamPool = 5\n",
    "# init search manager and starting teams\n",
    "searchManager = SearchManager(maxTeamPool)\n",
    "\n",
    "# init_team = Team(uuid.uuid4(), 0, 0, 0, 0, 0)\n",
    "# init_rule = Rule(uuid.uuid4(), [0, 0, 0, 0], 0, 0)\n",
    "# init_learner = Learner(uuid.uuid4(), init_rule)\n",
    "# (init_team.learners).append(init_learner)\n",
    "# init_team.mostRecent = init_learner\n",
    "# (searchManager.teamPool).append(init_team)\n",
    "\n",
    "# init teams\n",
    "adam_and_eve = []\n",
    "\n",
    "init_team = Team(uuid.uuid4(), 0, 0, 0, 0, 0)\n",
    "init_rule = Rule(uuid.uuid4(), [0, 0, 0, 0], [0, 1], 0)\n",
    "init_learner = Learner(uuid.uuid4(), init_rule)\n",
    "(init_team.learners).append(init_learner)\n",
    "init_team.mostRecent = init_learner\n",
    "adam_and_eve.append(init_team)\n",
    "\n",
    "# print('-----init pop start-----')\n",
    "# for team in searchManager.teamPool:\n",
    "#     print(f'Team id: {team.id}')\n",
    "#     print('Learners:')\n",
    "#     for learner in team.learners:\n",
    "#         print(learner.id)\n",
    "# print('-----init pop end-----')\n",
    "\n",
    "for gen in range(numGens):\n",
    "    toEvaluateAfterGen = []\n",
    "    print(f'>>>>>>>>>>>>>>>>>>>>>>>Gen {gen+1} start!>>>>>>>>>>>>>>>>>>>>>>>')\n",
    "    # get it started\n",
    "    if gen == 0:\n",
    "        for adam in adam_and_eve:\n",
    "            win = adam.search(env)\n",
    "            data = [adam, win]\n",
    "            searchManager.evaluate_team(data)\n",
    "    else:\n",
    "        for parent in searchManager.teamPool:\n",
    "            # only run if the team has not yet won\n",
    "            if parent not in searchManager.winners:\n",
    "                print(f'Parent: {parent.id}')\n",
    "                env.current_state = parent.start_state\n",
    "\n",
    "                # make offspring from parent, then let that offspring make a new rule\n",
    "                child = copy.deepcopy(parent)\n",
    "                child.id = uuid.uuid4()\n",
    "                win = child.search(env)\n",
    "                print(f'Child: {child.id}')\n",
    "                print('Start Child Regions --------')\n",
    "                for learner in child.learners:\n",
    "                    print(learner.program.rule.region)\n",
    "                print('End Child Regions --------')\n",
    "                print(f'Child Fitness: {child.fitness}') \n",
    "                toEvaluateAfterGen.append([child, win])\n",
    "            else:\n",
    "                print(f'Skipping Team: {parent.id}')\n",
    "    for data in toEvaluateAfterGen:\n",
    "        searchManager.evaluate_team(data)\n",
    "    print('%%%%%%%%%%%%%%%%%%%%%%%%%%%%%%%%%%%%%%%%%%%%%%%%%%%%%%%%%%%%%%%%')\n",
    "    print(f'End of Gen {gen+1} Regions')\n",
    "    for i in range(len(searchManager.teamPool)):\n",
    "        print(f'Team: {i+1} --> {searchManager.teamPool[i].fitness}')\n",
    "        for learner in searchManager.teamPool[i].learners:\n",
    "            print(learner.program.rule.region)\n",
    "    print(f'>>>>>>>>>>>>>>>>>>>>>>>Gen {gen+1} end!>>>>>>>>>>>>>>>>>>>>>>>')\n",
    "for team in searchManager.winners:\n",
    "    print('$$$$$$$$$$$$$ winnnnnner start $$$$$$$$$$$$$$$$$$$$')\n",
    "    print(team.fitness)\n",
    "    print('Learners:')\n",
    "    for learner in team.learners:\n",
    "        print(f'Region: {learner.program.rule.region} --> Action: {learner.program.rule.action_set}')\n",
    "    print('$$$$$$$$$$$$$ winnnnnner end $$$$$$$$$$$$$$$$$$$$')"
   ]
  },
  {
   "cell_type": "code",
   "execution_count": null,
   "metadata": {},
   "outputs": [],
   "source": [
    "for team in searchManager.winners:\n",
    "    print('$$$$$$$$$$$$$ winnnnnner start $$$$$$$$$$$$$$$$$$$$')\n",
    "    print(team.fitness)\n",
    "    print('Learners:')\n",
    "    for learner in team.learners:\n",
    "        print(f'Region: {learner.program.rule.region} --> Action: {learner.program.rule.action_set}')\n",
    "    print('$$$$$$$$$$$$$ winnnnnner end $$$$$$$$$$$$$$$$$$$$')"
   ]
  },
  {
   "cell_type": "code",
   "execution_count": null,
   "metadata": {},
   "outputs": [],
   "source": []
  }
 ],
 "metadata": {
  "kernelspec": {
   "display_name": "Python 3",
   "language": "python",
   "name": "python3"
  },
  "language_info": {
   "codemirror_mode": {
    "name": "ipython",
    "version": 3
   },
   "file_extension": ".py",
   "mimetype": "text/x-python",
   "name": "python",
   "nbconvert_exporter": "python",
   "pygments_lexer": "ipython3",
   "version": "3.8.3"
  }
 },
 "nbformat": 4,
 "nbformat_minor": 4
}
