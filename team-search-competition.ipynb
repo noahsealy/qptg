{
 "cells": [
  {
   "cell_type": "code",
   "execution_count": 5,
   "metadata": {},
   "outputs": [],
   "source": [
    "from qtpg.team import Team\n",
    "from qtpg.learner import Learner\n",
    "from qtpg.program import Program\n",
    "from qtpg.rule import Rule\n",
    "from qtpg.figure13 import Figure13\n",
    "from qtpg.search_manager import SearchManager\n",
    "import numpy as np\n",
    "import uuid\n",
    "import copy"
   ]
  },
  {
   "cell_type": "code",
   "execution_count": 6,
   "metadata": {},
   "outputs": [],
   "source": [
    "# env params\n",
    "memorySize = 20\n",
    "legalMove = 0.1\n",
    "illegalMove = -0.01\n",
    "outOfBounds = -0.01\n",
    "memoryRepeat = 0#-0.01\n",
    "goalReached = 1000\n",
    "\n",
    "env = Figure13(5, 5, (2, 4), (0, 0), memorySize, legalMove, illegalMove, outOfBounds, memoryRepeat, goalReached)"
   ]
  },
  {
   "cell_type": "code",
   "execution_count": 10,
   "metadata": {},
   "outputs": [
    {
     "name": "stdout",
     "output_type": "stream",
     "text": [
      "new search:--------------------------------\n",
      "parennt action :0\n",
      "child action :3\n",
      "Selected region: [0, 0, 0, 0]\n",
      "[0, 0]\n",
      "Sample start: [0, 0]\n",
      "Start: (0, 0)\n",
      "backtracked\n",
      "(0, 0)\n",
      "new state --> (0, 1)\n",
      "(0, 1)\n",
      "backtracked\n",
      "(0, 0)\n",
      "new state --> (0, 2)\n",
      "(0, 2)\n",
      "resulting updated parent: [0, 0, 3, 0]\n",
      "resulting region: [0, 2, 2, 0]\n",
      "False\n",
      "new search:--------------------------------\n",
      "parennt action :3\n",
      "child action :1\n",
      "Selected region: [0, 2, 2, 0]\n",
      "[2, 1]\n",
      "(<qtpg.rule.Rule object at 0x7f853e95abb0>, 0, 0, 0)\n",
      "win!\n",
      "[0, 0, 3, 0]\n",
      "[0, 2, 2, 0]\n"
     ]
    }
   ],
   "source": [
    "numGens = 50\n",
    "\n",
    "# init search manager and starting teams\n",
    "searchManager = SearchManager(5)\n",
    "\n",
    "init_team = Team(uuid.uuid4(), 0, 0, 0, 0, 0)\n",
    "init_rule = Rule(uuid.uuid4(), [0, 0, 0, 0], 0, 0)\n",
    "init_learner = Learner(uuid.uuid4(), init_rule)\n",
    "(init_team.learners).append(init_learner)\n",
    "init_team.mostRecent = init_learner\n",
    "(searchManager.teamPool).append(init_team)\n",
    "\n",
    "init_team = Team(uuid.uuid4(), 0, 0, 0, 0, 0)\n",
    "rule = Rule(uuid.uuid4(), [0, 0, 0, 0], 2, 0)\n",
    "init_learner = Learner(uuid.uuid4(), init_rule)\n",
    "(init_team.learners).append(init_learner)\n",
    "init_team.mostRecent = init_learner\n",
    "(searchManager.teamPool).append(init_team)\n",
    "\n",
    "\n",
    "for gen in range(numGens):\n",
    "    for team in searchManager.teamPool:\n",
    "        # only run if the team has not yet won\n",
    "        if team not in searchManager.winners:\n",
    "            env.current_state = team.start_state\n",
    "            win = team.search(env)\n",
    "            print(win)\n",
    "            \n",
    "            if win:\n",
    "                print('win!')\n",
    "                (searchManager.winners).append(team)\n",
    "            else:\n",
    "                searchManager.evaluate_team(team)\n",
    "\n",
    "for team in searchManager.winners:\n",
    "    for learner in team.learners:\n",
    "        print(learner.program.rule.region)"
   ]
  },
  {
   "cell_type": "code",
   "execution_count": null,
   "metadata": {},
   "outputs": [],
   "source": []
  }
 ],
 "metadata": {
  "kernelspec": {
   "display_name": "Python 3",
   "language": "python",
   "name": "python3"
  },
  "language_info": {
   "codemirror_mode": {
    "name": "ipython",
    "version": 3
   },
   "file_extension": ".py",
   "mimetype": "text/x-python",
   "name": "python",
   "nbconvert_exporter": "python",
   "pygments_lexer": "ipython3",
   "version": "3.8.3"
  }
 },
 "nbformat": 4,
 "nbformat_minor": 4
}
