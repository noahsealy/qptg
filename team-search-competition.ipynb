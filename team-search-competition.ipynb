{
 "cells": [
  {
   "cell_type": "code",
   "execution_count": 7,
   "metadata": {},
   "outputs": [],
   "source": [
    "from qtpg.team import Team\n",
    "from qtpg.agent import Agent\n",
    "from qtpg.trainer import Trainer\n",
    "from qtpg.figure13 import Figure13\n",
    "import numpy as np"
   ]
  },
  {
   "cell_type": "code",
   "execution_count": null,
   "metadata": {},
   "outputs": [],
   "source": [
    "# put this on agernt... or team, or trainer...?\n",
    "select_team(teamPop, team, teamMax):\n",
    "    for team in teamPop:\n",
    "    if len(teamPop) == teamMax:\n",
    "        lowest_fitness = 10000\n",
    "        lowest_index = 0\n",
    "        for i in range(len(teamPop)):\n",
    "            # find lowest fitness out of rule pool\n",
    "            if teamPop[i].fitness < lowest_fitness:\n",
    "                lowest_fitness = self.teamPop[i].fitness\n",
    "                lowest_index = i\n",
    "        # see if offspring beats out the lowest fitness\n",
    "        if team.fitness > lowest_fitness:\n",
    "            self.teamPop[lowest_index] = team\n",
    "    else:\n",
    "        self.rule_pool.append(offspring)\n",
    "    \n",
    "    \n",
    "    \n",
    "    repeat = False\n",
    "    for rule in self.rule_pool:\n",
    "        if rule.region == offspring.region:\n",
    "            repeat = True\n",
    "    # repeat = False # turn off blocking repeats while figuring out backtracking...\n",
    "    if not repeat:\n",
    "        if len(self.rule_pool) == self.max_rules:\n",
    "            lowest_fitness = 10000\n",
    "            lowest_index = 0\n",
    "            for i in range(len(self.rule_pool)):\n",
    "                # find lowest fitness out of rule pool\n",
    "                if self.rule_pool[i].fitness < lowest_fitness:\n",
    "                    lowest_fitness = self.rule_pool[i].fitness\n",
    "                    lowest_index = i\n",
    "            # see if offspring beats out the lowest fitness\n",
    "            if offspring.fitness > lowest_fitness:\n",
    "                self.rule_pool[lowest_index] = offspring\n",
    "        else:\n",
    "            self.rule_pool.append(offspring)"
   ]
  },
  {
   "cell_type": "code",
   "execution_count": 8,
   "metadata": {},
   "outputs": [],
   "source": [
    "# gp params\n",
    "numLearners = 4\n",
    "numAgents = 1\n",
    "numRuns = 100\n",
    "numGens = 1000\n",
    "numEpisodes = 50\n",
    "gap = 0.3\n",
    "# rl params\n",
    "alpha, discount, epsilon = 0.9, 0.9, 0.1\n",
    "# env params\n",
    "memorySize = 20\n",
    "legalMove = 0.1\n",
    "illegalMove = -0.01\n",
    "outOfBounds = -0.01\n",
    "memoryRepeat = 0#-0.01\n",
    "goalReached = 1000\n",
    "\n",
    "# team competition params\n",
    "numGens = 10 # aka gens\n",
    "teamPopulationSize = 5 # seats we are competing for"
   ]
  },
  {
   "cell_type": "code",
   "execution_count": 10,
   "metadata": {},
   "outputs": [
    {
     "name": "stdout",
     "output_type": "stream",
     "text": [
      "0\n",
      "1\n",
      "2\n",
      "3\n",
      "4\n",
      "5\n",
      "6\n",
      "7\n",
      "8\n",
      "9\n"
     ]
    }
   ],
   "source": [
    "trainer = Trainer(gap, numLearners, numAgents, 0, alpha, discount, epsilon)\n",
    "\n",
    "env = Figure13(5, 5, (2, 4), (0, 0), memorySize, legalMove, illegalMove, outOfBounds, memoryRepeat, goalReached)\n",
    "# env = Figure12(5, 5, (4, 4), (0, 0), memorySize, legalMove, illegalMove, outOfBounds, memoryRepeat, goalReached)\n",
    "# env = Figure9(5, 5, (4, 9), (0, 3), memorySize, legalMove, illegalMove, outOfBounds, memoryRepeat, goalReached)\n",
    "env.memoryRepeat = 0.0\n",
    "# search space to make rules\n",
    "trainer.generateRules(env)\n",
    "\n",
    "trainer.createInitAgents()\n",
    "\n",
    "teamPopulation = []\n",
    "\n",
    "for gen in range(numGens):\n",
    "    for agent in trainer.agents:\n",
    "        print(gen)\n",
    "        parent = select_parent()"
   ]
  },
  {
   "cell_type": "code",
   "execution_count": null,
   "metadata": {},
   "outputs": [],
   "source": []
  }
 ],
 "metadata": {
  "kernelspec": {
   "display_name": "Python 3",
   "language": "python",
   "name": "python3"
  },
  "language_info": {
   "codemirror_mode": {
    "name": "ipython",
    "version": 3
   },
   "file_extension": ".py",
   "mimetype": "text/x-python",
   "name": "python",
   "nbconvert_exporter": "python",
   "pygments_lexer": "ipython3",
   "version": "3.8.3"
  }
 },
 "nbformat": 4,
 "nbformat_minor": 4
}
