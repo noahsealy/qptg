{
 "cells": [
  {
   "cell_type": "code",
   "execution_count": 1,
   "metadata": {},
   "outputs": [],
   "source": [
    "from qtpg.team import Team\n",
    "from qtpg.agent import Agent\n",
    "from qtpg.trainer import Trainer\n",
    "from qtpg.figure13 import Figure13\n",
    "import numpy as np"
   ]
  },
  {
   "cell_type": "code",
   "execution_count": 2,
   "metadata": {},
   "outputs": [],
   "source": [
    "# gp params\n",
    "numLearners = 4\n",
    "numAgents = 1\n",
    "numRuns = 100\n",
    "numGens = 100\n",
    "numEpisodes = 50\n",
    "gap = 0.3\n",
    "# rl params\n",
    "alpha, discount, epsilon = 0.9, 0.9, 0.1\n",
    "# env params\n",
    "memorySize = 20\n",
    "legalMove = 0.1\n",
    "illegalMove = -0.01\n",
    "outOfBounds = -0.01\n",
    "memoryRepeat = 0#-0.01\n",
    "goalReached = 1000"
   ]
  },
  {
   "cell_type": "code",
   "execution_count": 3,
   "metadata": {
    "scrolled": true
   },
   "outputs": [
    {
     "name": "stdout",
     "output_type": "stream",
     "text": [
      "Sample start: [0, 0]\n",
      "Start: (0, 0)\n",
      "parent region: [0, 0, 0, 0]\n",
      "child position: (0, 4)\n",
      "Sample start: [0, 1]\n",
      "Start: (0, 4)\n",
      "parent region: [0, 0, 0, 3]\n",
      "child position: (0, 4)\n",
      "Sample start: [0, 2]\n",
      "Start: (4, 2)\n",
      "parent region: [0, 0, 0, 3]\n",
      "child position: (4, 4)\n",
      "Sample start: [0, 0]\n",
      "Start: (4, 4)\n",
      "win!\n",
      "win!\n",
      "------------ RESULTS -----------\n",
      "5\n",
      "[0, 0, 0, 0]\n",
      "[0, 0, 0, 3]\n",
      "[1, 4, 0, 0]\n",
      "[0, 4, 2, 3]\n",
      "[1, 4, 2, 4]\n"
     ]
    }
   ],
   "source": [
    "max_rules = 10\n",
    "team = Team(0, numLearners, max_rules, alpha, discount, epsilon)\n",
    "# search tests\n",
    "\n",
    "env = Figure13(5, 5, (2, 4), (0, 0), memorySize, legalMove, illegalMove, outOfBounds, memoryRepeat, goalReached)\n",
    "env.memoryRepeat = 0.0\n",
    "\n",
    "index = 0\n",
    "for gen in range(numGens):\n",
    "    selected_rule = team.select_rule()\n",
    "#     print(selected_rule.region)\n",
    "    offspring, win, backTrack, parent = team.search(selected_rule, env, index)\n",
    "    index += 1\n",
    "    team.evaluate_rule(offspring)\n",
    "    # if the offspring had to backtrack, the parent will be updated\n",
    "    # SO, we try to add the updated parent to the teams rule pool\n",
    "    if backTrack:\n",
    "        team.evaluate_rule(parent)\n",
    "\n",
    "    if win:\n",
    "        print('win!')\n",
    "        break\n",
    "env.reset()\n",
    "# print(team.rule_pool)\n",
    "print('------------ RESULTS -----------')\n",
    "print(len(team.rule_pool))\n",
    "for rule in team.rule_pool:\n",
    "    print(rule.region)"
   ]
  },
  {
   "cell_type": "code",
   "execution_count": 4,
   "metadata": {},
   "outputs": [
    {
     "name": "stdout",
     "output_type": "stream",
     "text": [
      "5\n"
     ]
    }
   ],
   "source": [
    "max_rules = 5\n",
    "test = []\n",
    "for i in range(5):\n",
    "    test.append(1)\n",
    "print(len(test))"
   ]
  },
  {
   "cell_type": "code",
   "execution_count": 5,
   "metadata": {},
   "outputs": [
    {
     "name": "stdout",
     "output_type": "stream",
     "text": [
      "parent region: [0, 0, 0, 1]\n",
      "child position: (0, 2)\n"
     ]
    },
    {
     "data": {
      "text/plain": [
       "False"
      ]
     },
     "execution_count": 5,
     "metadata": {},
     "output_type": "execute_result"
    }
   ],
   "source": [
    "# in parennt region test...\n",
    "team.in_parent_region([0, 0, 0, 1], (0, 2))"
   ]
  },
  {
   "cell_type": "code",
   "execution_count": 6,
   "metadata": {},
   "outputs": [
    {
     "ename": "TypeError",
     "evalue": "search() missing 1 required positional argument: 'index'",
     "output_type": "error",
     "traceback": [
      "\u001b[0;31m---------------------------------------------------------------------------\u001b[0m",
      "\u001b[0;31mTypeError\u001b[0m                                 Traceback (most recent call last)",
      "\u001b[0;32m<ipython-input-6-e5ef97449efa>\u001b[0m in \u001b[0;36m<module>\u001b[0;34m\u001b[0m\n\u001b[1;32m      6\u001b[0m \u001b[0menv\u001b[0m\u001b[0;34m.\u001b[0m\u001b[0mcurrent_state\u001b[0m \u001b[0;34m=\u001b[0m \u001b[0;34m(\u001b[0m\u001b[0;36m4\u001b[0m\u001b[0;34m,\u001b[0m \u001b[0;36m2\u001b[0m\u001b[0;34m)\u001b[0m\u001b[0;34m\u001b[0m\u001b[0;34m\u001b[0m\u001b[0m\n\u001b[1;32m      7\u001b[0m \u001b[0mparent\u001b[0m \u001b[0;34m=\u001b[0m \u001b[0mRule\u001b[0m\u001b[0;34m(\u001b[0m\u001b[0;34m-\u001b[0m\u001b[0;36m1\u001b[0m\u001b[0;34m,\u001b[0m \u001b[0;34m[\u001b[0m\u001b[0;36m1\u001b[0m\u001b[0;34m,\u001b[0m \u001b[0;36m2\u001b[0m\u001b[0;34m,\u001b[0m \u001b[0;36m0\u001b[0m\u001b[0;34m,\u001b[0m \u001b[0;36m3\u001b[0m\u001b[0;34m]\u001b[0m\u001b[0;34m,\u001b[0m \u001b[0;36m0\u001b[0m\u001b[0;34m,\u001b[0m \u001b[0;36m0\u001b[0m\u001b[0;34m)\u001b[0m\u001b[0;34m\u001b[0m\u001b[0;34m\u001b[0m\u001b[0m\n\u001b[0;32m----> 8\u001b[0;31m \u001b[0mchild\u001b[0m\u001b[0;34m,\u001b[0m \u001b[0mwin\u001b[0m\u001b[0;34m,\u001b[0m \u001b[0mbackTrack\u001b[0m\u001b[0;34m,\u001b[0m \u001b[0mupdatedParent\u001b[0m \u001b[0;34m=\u001b[0m \u001b[0mteam\u001b[0m\u001b[0;34m.\u001b[0m\u001b[0msearch\u001b[0m\u001b[0;34m(\u001b[0m\u001b[0mparent\u001b[0m\u001b[0;34m,\u001b[0m \u001b[0menv\u001b[0m\u001b[0;34m)\u001b[0m\u001b[0;34m\u001b[0m\u001b[0;34m\u001b[0m\u001b[0m\n\u001b[0m\u001b[1;32m      9\u001b[0m \u001b[0;34m\u001b[0m\u001b[0m\n\u001b[1;32m     10\u001b[0m \u001b[0mprint\u001b[0m\u001b[0;34m(\u001b[0m\u001b[0;34m'------START OG PARENT-----'\u001b[0m\u001b[0;34m)\u001b[0m\u001b[0;34m\u001b[0m\u001b[0;34m\u001b[0m\u001b[0m\n",
      "\u001b[0;31mTypeError\u001b[0m: search() missing 1 required positional argument: 'index'"
     ]
    }
   ],
   "source": [
    "from qtpg.rule import Rule\n",
    "\n",
    "team.rule_pool = []\n",
    "\n",
    "env.reset()\n",
    "env.current_state = (4, 2)\n",
    "parent = Rule(-1, [1, 2, 0, 3], 0, 0)\n",
    "child, win, backTrack, updatedParent = team.search(parent, env)\n",
    "\n",
    "print('------START OG PARENT-----')\n",
    "print(parent.id)\n",
    "print(parent.region)\n",
    "print(parent.action_set)\n",
    "print(parent.fitness)\n",
    "print('------END OG PARENT-----')\n",
    "\n",
    "print('------START CHILD-----')\n",
    "print(child.id)\n",
    "print(child.region)\n",
    "print(child.action_set)\n",
    "print(child.fitness)\n",
    "print('------END CHILD-----')\n",
    "\n",
    "print('------START UPDATED PARENT-----')\n",
    "print(updatedParent.id)\n",
    "print(updatedParent.region)\n",
    "print(updatedParent.action_set)\n",
    "print(updatedParent.fitness)\n",
    "print('------END UPDATED PARENT-----')\n",
    "print('------START .ENV VARS-----')\n",
    "print(f'Win?: {win}')\n",
    "print(f'Backtracked?: {backTrack}')\n",
    "print('------END .ENV VARS-----')"
   ]
  },
  {
   "cell_type": "code",
   "execution_count": null,
   "metadata": {},
   "outputs": [],
   "source": []
  }
 ],
 "metadata": {
  "kernelspec": {
   "display_name": "Python 3",
   "language": "python",
   "name": "python3"
  },
  "language_info": {
   "codemirror_mode": {
    "name": "ipython",
    "version": 3
   },
   "file_extension": ".py",
   "mimetype": "text/x-python",
   "name": "python",
   "nbconvert_exporter": "python",
   "pygments_lexer": "ipython3",
   "version": "3.8.3"
  }
 },
 "nbformat": 4,
 "nbformat_minor": 4
}
